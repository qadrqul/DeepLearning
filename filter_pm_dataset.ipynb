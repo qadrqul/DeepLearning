{
 "cells": [
  {
   "cell_type": "code",
   "execution_count": 38,
   "id": "43f5b0df-62e4-4620-8510-9deb1c7fe2fd",
   "metadata": {},
   "outputs": [],
   "source": [
    "import zipfile\n",
    "import pandas as pd\n",
    "import random\n",
    "from datetime import timedelta\n",
    "import names"
   ]
  },
  {
   "cell_type": "code",
   "execution_count": 39,
   "id": "86523c88-a18b-4df5-ac82-901a1cd503da",
   "metadata": {},
   "outputs": [],
   "source": [
    "zip_file_path = 'C:/Users/user/Downloads/archive (11).zip'\n",
    "extract_path = 'project_management_data'"
   ]
  },
  {
   "cell_type": "code",
   "execution_count": 40,
   "id": "ae5dc8e1-277a-4eec-8202-340b6075a387",
   "metadata": {},
   "outputs": [],
   "source": [
    "with zipfile.ZipFile(zip_file_path, 'r') as zip_ref:\n",
    "    zip_ref.extractall(extract_path)"
   ]
  },
  {
   "cell_type": "code",
   "execution_count": 41,
   "id": "8ee12f01-f310-4d19-828a-4a20edb54466",
   "metadata": {},
   "outputs": [],
   "source": [
    "excel_file_path = f'{extract_path}/project Management.xlsx'"
   ]
  },
  {
   "cell_type": "code",
   "execution_count": 42,
   "id": "b72766de-9bc9-48cc-afd9-4c7cfb3ff965",
   "metadata": {},
   "outputs": [],
   "source": [
    "df = pd.read_excel(excel_file_path)\n",
    "#I used extracting from csv, because I was checking different data frames from Kaggle(from Kaggle I downloaded them directly in zip--> csv format)\n",
    "#This data frame turned out to be best among all that I tried(previous attempts in git)"
   ]
  },
  {
   "cell_type": "code",
   "execution_count": 43,
   "id": "4efd2c81-1c9e-42a1-b462-1fa79f446f96",
   "metadata": {},
   "outputs": [
    {
     "name": "stdout",
     "output_type": "stream",
     "text": [
      "Index(['id', 'Company', 'Site Name', 'EntryDate', 'WorkStatus', 'COmpleteDate',\n",
      "       'ReccuringRevenue', 'NRR', 'Task Owner ', 'Currency'],\n",
      "      dtype='object')\n"
     ]
    }
   ],
   "source": [
    "print(df.columns)"
   ]
  },
  {
   "cell_type": "code",
   "execution_count": 44,
   "id": "7121bbfa-303c-4194-b98e-d3ee0c660cef",
   "metadata": {},
   "outputs": [],
   "source": [
    "def add_random_dates(entry_date):\n",
    "    if pd.isnull(entry_date):\n",
    "        return entry_date  \n",
    "    random_days = random.randint(7, 30)\n",
    "    complete_date = pd.to_datetime(entry_date) + timedelta(days=random_days)\n",
    "    return complete_date\n",
    "\n",
    "    \n",
    "#at first I tried to fill null values in \"Complete Date\" by randomly adding 7, 14 or 21 days from \"Entry date\" \n",
    "#but it may not be realistic enough for complex tasks that may require different lead times, so I substituted it with range of days from 7 to 30"
   ]
  },
  {
   "cell_type": "code",
   "execution_count": 45,
   "id": "20831c9a-b91b-4fbe-9ac3-a18b41aefa0b",
   "metadata": {},
   "outputs": [],
   "source": [
    "df['COmpleteDate'] = df.apply(\n",
    "    lambda row: add_random_dates(row['EntryDate']) if pd.isnull(row['COmpleteDate']) else row['COmpleteDate'],\n",
    "    axis=1\n",
    ")\n"
   ]
  },
  {
   "cell_type": "code",
   "execution_count": 46,
   "id": "4416ceb2-1667-4d1d-87a6-0980541ce0c9",
   "metadata": {},
   "outputs": [],
   "source": [
    "df['Task Owner '] = [names.get_full_name() for _ in range(len(df))]\n",
    "#generated unique values for \"Task Owner\" column it will make the data more diverse and help create more accurate natural language instructions."
   ]
  },
  {
   "cell_type": "code",
   "execution_count": 47,
   "id": "a84b9921-4875-4426-adce-e033d5ddc454",
   "metadata": {},
   "outputs": [],
   "source": [
    "df_filtered = df[['Company', 'EntryDate', 'COmpleteDate', 'Task Owner ']]\n",
    "#filtered df with only necessary columns "
   ]
  },
  {
   "cell_type": "code",
   "execution_count": 48,
   "id": "5b14991d-599c-4d2a-9d70-cf955a5829c7",
   "metadata": {},
   "outputs": [
    {
     "name": "stdout",
     "output_type": "stream",
     "text": [
      "Data with random dates saved to project_management_with_random_dates.csv\n"
     ]
    }
   ],
   "source": [
    "new_csv_file_path = 'project_management_with_random_dates.csv'\n",
    "df_filtered.to_csv(new_csv_file_path, index=False)\n",
    "print(f\"Data with random dates saved to {new_csv_file_path}\")\n",
    "\n",
    "#saved generated and filtered data to a new csv  file"
   ]
  },
  {
   "cell_type": "code",
   "execution_count": null,
   "id": "fa33f339-8040-4579-8297-d435ac2a598e",
   "metadata": {},
   "outputs": [],
   "source": []
  }
 ],
 "metadata": {
  "kernelspec": {
   "display_name": "Python 3 (ipykernel)",
   "language": "python",
   "name": "python3"
  },
  "language_info": {
   "codemirror_mode": {
    "name": "ipython",
    "version": 3
   },
   "file_extension": ".py",
   "mimetype": "text/x-python",
   "name": "python",
   "nbconvert_exporter": "python",
   "pygments_lexer": "ipython3",
   "version": "3.12.4"
  }
 },
 "nbformat": 4,
 "nbformat_minor": 5
}
